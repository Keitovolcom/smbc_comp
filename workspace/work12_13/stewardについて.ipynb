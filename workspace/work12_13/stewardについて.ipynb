{
 "cells": [
  {
   "cell_type": "code",
   "execution_count": 2,
   "metadata": {},
   "outputs": [],
   "source": [
    "from pathlib import Path\n",
    "import catboost as cb\n",
    "import lightgbm as lgb\n",
    "import matplotlib.pyplot as plt\n",
    "import numpy as np\n",
    "import pandas as pd\n",
    "import seaborn as sns\n",
    "from category_encoders import CountEncoder\n",
    "from sklearn.base import BaseEstimator, TransformerMixin\n",
    "from sklearn.compose import ColumnTransformer\n",
    "from sklearn.metrics import mean_absolute_percentage_error\n",
    "from sklearn.model_selection import KFold,StratifiedKFold\n",
    "from sklearn.pipeline import Pipeline\n",
    "#from sklearn.preprocessing import TargetEncoder\n",
    "from sklearn.metrics import f1_score,recall_score,precision_score,confusion_matrix\n",
    "\n",
    "from sklearn.metrics import classification_report\n",
    "pd.set_option('display.max_rows', None)\n",
    "pd.set_option('display.max_columns', None)"
   ]
  },
  {
   "cell_type": "code",
   "execution_count": 36,
   "metadata": {},
   "outputs": [],
   "source": [
    "train_date = pd.read_csv('C:/Users/wgkdj/smbc_comp/input/train.csv')\n",
    "test_date = pd.read_csv('C:/Users/wgkdj/smbc_comp/input/test.csv')\n",
    "sub_df = pd.read_csv('C:/Users/wgkdj/smbc_comp/input/sample_submission.csv',header=None)\n",
    "sub_df.columns = [\"index\", \"health\"]"
   ]
  },
  {
   "cell_type": "code",
   "execution_count": 20,
   "metadata": {},
   "outputs": [],
   "source": [
    "train_date['int_steward'] = train_date['steward'].replace({'1or2': 1, '3or4': 2, '4orMore': 3})"
   ]
  },
  {
   "cell_type": "code",
   "execution_count": 37,
   "metadata": {},
   "outputs": [
    {
     "data": {
      "text/plain": [
       "Unnamed: 0        0\n",
       "created_at        0\n",
       "tree_dbh          0\n",
       "curb_loc          0\n",
       "health            0\n",
       "steward       14883\n",
       "guards        14943\n",
       "sidewalk          0\n",
       "user_type         0\n",
       "problems      12243\n",
       "spc_common        0\n",
       "spc_latin         0\n",
       "nta               0\n",
       "nta_name          0\n",
       "borocode          0\n",
       "boro_ct           0\n",
       "boroname          0\n",
       "zip_city          0\n",
       "cb_num            0\n",
       "st_senate         0\n",
       "st_assem          0\n",
       "cncldist          0\n",
       "dtype: int64"
      ]
     },
     "execution_count": 37,
     "metadata": {},
     "output_type": "execute_result"
    }
   ],
   "source": [
    "train_date.isnull().sum()"
   ]
  },
  {
   "cell_type": "code",
   "execution_count": 31,
   "metadata": {},
   "outputs": [],
   "source": [
    "train_date['steward'].fillna('Unknown', inplace=True)"
   ]
  },
  {
   "cell_type": "code",
   "execution_count": 33,
   "metadata": {},
   "outputs": [
    {
     "data": {
      "text/plain": [
       "<Axes: xlabel='steward', ylabel='count'>"
      ]
     },
     "execution_count": 33,
     "metadata": {},
     "output_type": "execute_result"
    },
    {
     "data": {
      "image/png": "[encoded data removed]",
      "text/plain": [
       "<Figure size 640x480 with 1 Axes>"
      ]
     },
     "metadata": {},
     "output_type": "display_data"
    }
   ],
   "source": [
    "#f,axes = plt.subplots(ncols=1, figsize=(25,10))\n",
    "sns.countplot(x='steward',hue='health',data=train_date)\n"
   ]
  },
  {
   "cell_type": "code",
   "execution_count": null,
   "metadata": {},
   "outputs": [],
   "source": []
  }
 ],
 "metadata": {
  "kernelspec": {
   "display_name": "Python 3",
   "language": "python",
   "name": "python3"
  },
  "language_info": {
   "codemirror_mode": {
    "name": "ipython",
    "version": 3
   },
   "file_extension": ".py",
   "mimetype": "text/x-python",
   "name": "python",
   "nbconvert_exporter": "python",
   "pygments_lexer": "ipython3",
   "version": "3.8.10"
  }
 },
 "nbformat": 4,
 "nbformat_minor": 2
}
