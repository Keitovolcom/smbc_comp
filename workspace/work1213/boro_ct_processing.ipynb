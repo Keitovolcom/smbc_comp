{
 "cells": [
  {
   "cell_type": "code",
   "execution_count": 1,
   "metadata": {},
   "outputs": [],
   "source": [
    "import numpy as np\n",
    "import pandas as pd\n",
    "import seaborn as sns\n",
    "import matplotlib.pyplot as plt\n",
    "pd.set_option('display.max_rows', None)\n",
    "pd.set_option('display.max_columns', None)\n"
   ]
  },
  {
   "cell_type": "code",
   "execution_count": 9,
   "metadata": {},
   "outputs": [],
   "source": [
    "train_date = pd.read_csv('C:/Users/wgkdj/smbc_comp/input/train.csv')\n",
    "test_date = pd.read_csv('C:/Users/wgkdj/smbc_comp/input/test.csv')\n",
    "b_data = pd.read_csv('C:/Users/wgkdj/smbc_comp/workspace/work1213/2015_Street_Tree_Census_-_Blockface_Data_20231213.csv')"
   ]
  },
  {
   "cell_type": "code",
   "execution_count": 11,
   "metadata": {},
   "outputs": [
    {
     "data": {
      "text/plain": [
       "(131488, 30)"
      ]
     },
     "execution_count": 11,
     "metadata": {},
     "output_type": "execute_result"
    }
   ],
   "source": [
    "b_data.shape"
   ]
  },
  {
   "cell_type": "code",
   "execution_count": 15,
   "metadata": {},
   "outputs": [
    {
     "data": {
      "text/plain": [
       "block_id        int64\n",
       "block_stat     object\n",
       "trees           int64\n",
       "surv_date      object\n",
       "group_name     object\n",
       "cb_num          int64\n",
       "borocode        int64\n",
       "boroname       object\n",
       "cncldist        int64\n",
       "st_assem        int64\n",
       "st_senate       int64\n",
       "nta            object\n",
       "nta_name       object\n",
       "boro_ct         int64\n",
       "zipcode         int64\n",
       "zip_city       object\n",
       "state          object\n",
       "start_x_sp    float64\n",
       "start_y_sp    float64\n",
       "mid_x_sp      float64\n",
       "mid_y_sp      float64\n",
       "end_x_sp      float64\n",
       "end_y_sp      float64\n",
       "start_lat     float64\n",
       "start_long    float64\n",
       "mid_lat       float64\n",
       "mid_long      float64\n",
       "end_lat       float64\n",
       "end_long      float64\n",
       "SHAPE_Leng    float64\n",
       "dtype: object"
      ]
     },
     "execution_count": 15,
     "metadata": {},
     "output_type": "execute_result"
    }
   ],
   "source": [
    "b_data.dtypes"
   ]
  },
  {
   "cell_type": "code",
   "execution_count": 12,
   "metadata": {},
   "outputs": [],
   "source": [
    "block_data = b_data[b_data['trees'] != 0]"
   ]
  },
  {
   "cell_type": "code",
   "execution_count": 13,
   "metadata": {},
   "outputs": [
    {
     "data": {
      "text/plain": [
       "(101390, 30)"
      ]
     },
     "execution_count": 13,
     "metadata": {},
     "output_type": "execute_result"
    }
   ],
   "source": [
    "block_data.shape"
   ]
  },
  {
   "cell_type": "code",
   "execution_count": 14,
   "metadata": {},
   "outputs": [],
   "source": [
    "boro_ct_avg = block_data.groupby('boro_ct').agg({'mid_long': 'mean', 'mid_lat': 'mean'}).reset_index()\n",
    "\n",
    "# 新しいデータフレームの列名を変更\n",
    "boro_ct_avg.columns = ['boro_ct', 'boro_ct_avg_long', 'boro_ct_avg_lat']"
   ]
  },
  {
   "cell_type": "code",
   "execution_count": 16,
   "metadata": {},
   "outputs": [
    {
     "data": {
      "text/html": [
       "<div>\n",
       "<style scoped>\n",
       "    .dataframe tbody tr th:only-of-type {\n",
       "        vertical-align: middle;\n",
       "    }\n",
       "\n",
       "    .dataframe tbody tr th {\n",
       "        vertical-align: top;\n",
       "    }\n",
       "\n",
       "    .dataframe thead th {\n",
       "        text-align: right;\n",
       "    }\n",
       "</style>\n",
       "<table border=\"1\" class=\"dataframe\">\n",
       "  <thead>\n",
       "    <tr style=\"text-align: right;\">\n",
       "      <th></th>\n",
       "      <th>boro_ct</th>\n",
       "      <th>boro_ct_avg_long</th>\n",
       "      <th>boro_ct_avg_lat</th>\n",
       "    </tr>\n",
       "  </thead>\n",
       "  <tbody>\n",
       "    <tr>\n",
       "      <th>0</th>\n",
       "      <td>1000201</td>\n",
       "      <td>-73.985739</td>\n",
       "      <td>40.712898</td>\n",
       "    </tr>\n",
       "    <tr>\n",
       "      <th>1</th>\n",
       "      <td>1000202</td>\n",
       "      <td>-73.982203</td>\n",
       "      <td>40.712859</td>\n",
       "    </tr>\n",
       "    <tr>\n",
       "      <th>2</th>\n",
       "      <td>1000600</td>\n",
       "      <td>-73.989669</td>\n",
       "      <td>40.712745</td>\n",
       "    </tr>\n",
       "    <tr>\n",
       "      <th>3</th>\n",
       "      <td>1000700</td>\n",
       "      <td>-74.007645</td>\n",
       "      <td>40.704931</td>\n",
       "    </tr>\n",
       "    <tr>\n",
       "      <th>4</th>\n",
       "      <td>1000800</td>\n",
       "      <td>-73.993939</td>\n",
       "      <td>40.711947</td>\n",
       "    </tr>\n",
       "  </tbody>\n",
       "</table>\n",
       "</div>"
      ],
      "text/plain": [
       "   boro_ct  boro_ct_avg_long  boro_ct_avg_lat\n",
       "0  1000201        -73.985739        40.712898\n",
       "1  1000202        -73.982203        40.712859\n",
       "2  1000600        -73.989669        40.712745\n",
       "3  1000700        -74.007645        40.704931\n",
       "4  1000800        -73.993939        40.711947"
      ]
     },
     "execution_count": 16,
     "metadata": {},
     "output_type": "execute_result"
    }
   ],
   "source": [
    "boro_ct_avg.head()"
   ]
  },
  {
   "cell_type": "code",
   "execution_count": 17,
   "metadata": {},
   "outputs": [],
   "source": [
    "boro_ct_avg.to_csv('boro_ct_avg.csv', index=False)"
   ]
  }
 ],
 "metadata": {
  "kernelspec": {
   "display_name": "Python 3",
   "language": "python",
   "name": "python3"
  },
  "language_info": {
   "codemirror_mode": {
    "name": "ipython",
    "version": 3
   },
   "file_extension": ".py",
   "mimetype": "text/x-python",
   "name": "python",
   "nbconvert_exporter": "python",
   "pygments_lexer": "ipython3",
   "version": "3.8.10"
  }
 },
 "nbformat": 4,
 "nbformat_minor": 2
}
