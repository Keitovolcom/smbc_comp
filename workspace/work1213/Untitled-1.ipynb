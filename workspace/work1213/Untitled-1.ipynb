{
 "cells": [
  {
   "cell_type": "code",
   "execution_count": 1,
   "metadata": {},
   "outputs": [],
   "source": [
    "from pathlib import Path\n",
    "import catboost as cb\n",
    "import lightgbm as lgb\n",
    "import matplotlib.pyplot as plt\n",
    "import numpy as np\n",
    "import pandas as pd\n",
    "import seaborn as sns\n",
    "from category_encoders import CountEncoder\n",
    "from sklearn.base import BaseEstimator, TransformerMixin\n",
    "from sklearn.compose import ColumnTransformer\n",
    "from sklearn.metrics import mean_absolute_percentage_error\n",
    "from sklearn.model_selection import KFold,StratifiedKFold\n",
    "from sklearn.pipeline import Pipeline\n",
    "#from sklearn.preprocessing import TargetEncoder\n",
    "from sklearn.metrics import f1_score,recall_score,precision_score,confusion_matrix\n",
    "\n",
    "from sklearn.metrics import classification_report\n",
    "pd.set_option('display.max_rows', None)\n",
    "pd.set_option('display.max_columns', None)"
   ]
  },
  {
   "cell_type": "code",
   "execution_count": 11,
   "metadata": {},
   "outputs": [],
   "source": [
    "train_date = pd.read_csv('C:/Users/wgkdj/smbc_comp/input/train.csv')\n",
    "test_date = pd.read_csv('C:/Users/wgkdj/smbc_comp/input/test.csv')\n",
    "sub_df = pd.read_csv('C:/Users/wgkdj/smbc_comp/input/sample_submission.csv',header=None)\n",
    "sub_df.columns = [\"index\", \"health\"]\n",
    "row_data = pd.read_csv('C:/Users/wgkdj/work12_07/newrows.csv')"
   ]
  },
  {
   "cell_type": "code",
   "execution_count": 12,
   "metadata": {},
   "outputs": [],
   "source": [
    "class PreProcessTransformer(TransformerMixin, BaseEstimator):\n",
    "    def fit(self, X, y=None):\n",
    "        return self\n",
    "    \n",
    "    def transform(self,X):\n",
    "        X['created_at'] = pd.to_datetime(X['created_at'])\n",
    "        X['created_at_year'] = X['created_at'].dt.year\n",
    "        X['created_at_month'] = X['created_at'].dt.month\n",
    "        X['created_at_day'] = X['created_at'].dt.day\n",
    "        X['problems'].fillna(' ', inplace=True)\n",
    "        X['problems'] = X['problems'].astype('category')\n",
    "        problem = [\"Stones\", \"BranchLights\", \"BranchOther\", \"RootOther\", \"TrunkOther\", \"WiresRope\", \"MetalGrates\", \"TrunkLights\"]\n",
    "        for substring in problem:\n",
    "            X[substring] = X['problems'].apply(lambda row: 1 if (pd.notnull(row) and substring in row) else 0)\n",
    "        X['int_steward'] = X['steward'].replace({'1or2': 1, '3or4': 2, '4orMore': 3})\n",
    "        X['null_problems'] = X['problems'].apply(lambda x: 1 if pd.isnull(x) else 0)\n",
    "        X['weekdays'] = X['created_at'].dt.day_name()\n",
    "        X['status'] = 0\n",
    "        X.loc[X['steward'].isnull() & X['guards'].isnull(), 'status'] = 1\n",
    "        X['status'] = X['status'].astype('str')\n",
    "        X['nta_prefix'] = X['nta'].str[:2]\n",
    "        X['nta_suffix'] = X['nta'].str[2:].astype('int')\n",
    "        return X\n",
    "\n",
    "class OriginalTransformer(TransformerMixin, BaseEstimator):\n",
    "    \"\"\"数値特徴はそのまま、カテゴリ特徴はcategory型に変換\"\"\"\n",
    "\n",
    "    def __init__(self, numeric_cols, categorical_cols):\n",
    "        self.numeric_cols = numeric_cols\n",
    "        self.categorical_cols = categorical_cols\n",
    "    def fit(self, X, y=None):\n",
    "        return self\n",
    "\n",
    "    def transform(self, X):\n",
    "        X_new = X.copy()\n",
    "\n",
    "        # 数値変数\n",
    "        X_new[self.numeric_cols] = X_new[self.numeric_cols].astype(\"float32\")\n",
    "\n",
    "        # カテゴリ変数\n",
    "        X_new[self.categorical_cols] = X_new[self.categorical_cols].astype(\"category\")\n",
    "        \n",
    "        return X_new[self.get_feature_names_out()]\n",
    "\n",
    "    def get_feature_names_out(self):\n",
    "        return self.numeric_cols + self.categorical_cols\n",
    "class AggTransformer(TransformerMixin, BaseEstimator):\n",
    "    \"\"\"集約特徴量\"\"\"\n",
    "\n",
    "    def __init__(self, key, numeric_cols, agg_func: dict):\n",
    "        self.key = key\n",
    "        self.numeric_cols = numeric_cols\n",
    "        self.agg_func = agg_func\n",
    "\n",
    "    def fit(self, X, y=None):\n",
    "        X = X.copy()\n",
    "        X[self.key] = X[self.key].astype(\"category\")\n",
    "        self.agg_df = X.groupby(self.key)[self.numeric_cols].agg(self.agg_func)\n",
    "        self.agg_df.columns = [f\"{col}_{func}\" for col, func in self.agg_df.columns.tolist()]\n",
    "\n",
    "        return self\n",
    "\n",
    "    def transform(self, X):\n",
    "        X_new = pd.merge(X, self.agg_df, on=self.key, how=\"left\")\n",
    "        return X_new[self.get_feature_names_out()]\n",
    "\n",
    "    def get_feature_names_out(self, input_features=None):\n",
    "        return self.agg_df.columns.tolist()"
   ]
  },
  {
   "cell_type": "code",
   "execution_count": 13,
   "metadata": {},
   "outputs": [
    {
     "name": "stdout",
     "output_type": "stream",
     "text": [
      "[ColumnTransformer] ........... (1 of 2) Processing ori, total=   0.5s\n",
      "[ColumnTransformer] ........... (2 of 2) Processing tgt, total=   2.0s\n"
     ]
    }
   ],
   "source": [
    "import category_encoders as ce\n",
    "\n",
    "\n",
    "\n",
    "train_date = train_date[~train_date['spc_common'].isin(['Himalayan cedar', 'Chinese chestnut'])]\n",
    "\n",
    "numeric_cols = [\n",
    "    'tree_dbh',\n",
    "    'borocode',\n",
    "    'boro_ct',\n",
    "    'cb_num',\n",
    "    'st_senate',\n",
    "    'st_assem',\n",
    "    'cncldist',\n",
    "    'created_at_year',\n",
    "    'created_at_month',\n",
    "    'created_at_day',\n",
    "    'int_steward',\n",
    "    #'nta_suffix',\n",
    "]\n",
    "categorical_cols = [\n",
    "    'curb_loc',\n",
    "    'guards',\n",
    "    'sidewalk',\n",
    "    'user_type',\n",
    "    #'problems',\n",
    "    'Stones',\n",
    "    'BranchLights',\n",
    "    'BranchOther',\n",
    "    'RootOther',\n",
    "    'TrunkOther',\n",
    "    'WiresRope',\n",
    "    'MetalGrates',\n",
    "    'TrunkLights',\n",
    "    'status',\n",
    "    'null_problems',\n",
    "    #'weekdays',\n",
    "]\n",
    "\n",
    "# ColumnTransformer\n",
    "ct = ColumnTransformer(\n",
    "    transformers=[\n",
    "        (\n",
    "            \"ori\",\n",
    "            OriginalTransformer(numeric_cols, categorical_cols),\n",
    "            numeric_cols + categorical_cols\n",
    "        ),\n",
    "        (\n",
    "            \"tgt\",\n",
    "            ce.TargetEncoder(cols=[ 'steward', 'guards','user_type', 'problems',\n",
    "                                   'spc_common', 'nta','zip_city']),\n",
    "            [ 'steward', 'guards', 'user_type','problems',\n",
    "             'spc_common','nta','zip_city']\n",
    "        ),\n",
    "    ],\n",
    "    verbose=True\n",
    ")\n",
    "\n",
    "# Pipeline\n",
    "ct.set_output(transform=\"pandas\")\n",
    "pipe = Pipeline(\n",
    "    steps=[\n",
    "        (\"preprocess\", PreProcessTransformer()),\n",
    "        ('ct', ct),\n",
    "    ]\n",
    ")\n",
    "# Fit and transform\n",
    "\n",
    "train_feat_df = pipe.fit_transform(row_data, row_data['health'])\n",
    "test_feat_df = pipe.transform(train_date.drop('health', axis=1))\n"
   ]
  },
  {
   "cell_type": "code",
   "execution_count": 8,
   "metadata": {},
   "outputs": [
    {
     "data": {
      "text/plain": [
       "health\n",
       "1    526787\n",
       "0     96164\n",
       "2     26683\n",
       "Name: count, dtype: int64"
      ]
     },
     "execution_count": 8,
     "metadata": {},
     "output_type": "execute_result"
    }
   ],
   "source": [
    "row_data['health'].value_counts()"
   ]
  },
  {
   "cell_type": "code",
   "execution_count": 26,
   "metadata": {},
   "outputs": [
    {
     "name": "stdout",
     "output_type": "stream",
     "text": [
      "[LightGBM] [Warning] feature_fraction is set=0.9, colsample_bytree=1.0 will be ignored. Current value: feature_fraction=0.9\n",
      "[LightGBM] [Warning] learning_rate is set=0.05, eta=0.05 will be ignored. Current value: learning_rate=0.05\n",
      "[LightGBM] [Warning] feature_fraction is set=0.9, colsample_bytree=1.0 will be ignored. Current value: feature_fraction=0.9\n",
      "[LightGBM] [Warning] learning_rate is set=0.05, eta=0.05 will be ignored. Current value: learning_rate=0.05\n",
      "[LightGBM] [Info] Auto-choosing row-wise multi-threading, the overhead of testing was 0.021408 seconds.\n",
      "You can set `force_row_wise=true` to remove the overhead.\n",
      "And if memory is not enough, you can set `force_col_wise=true`.\n",
      "[LightGBM] [Info] Total Bins 1127\n",
      "[LightGBM] [Info] Number of data points in the train set: 649634, number of used features: 31\n",
      "[LightGBM] [Info] Start training from score -1.271426\n",
      "[LightGBM] [Info] Start training from score -0.669297\n",
      "[LightGBM] [Info] Start training from score -1.572625\n"
     ]
    },
    {
     "data": {
      "text/html": [
       "<style>#sk-container-id-4 {color: black;}#sk-container-id-4 pre{padding: 0;}#sk-container-id-4 div.sk-toggleable {background-color: white;}#sk-container-id-4 label.sk-toggleable__label {cursor: pointer;display: block;width: 100%;margin-bottom: 0;padding: 0.3em;box-sizing: border-box;text-align: center;}#sk-container-id-4 label.sk-toggleable__label-arrow:before {content: \"▸\";float: left;margin-right: 0.25em;color: #696969;}#sk-container-id-4 label.sk-toggleable__label-arrow:hover:before {color: black;}#sk-container-id-4 div.sk-estimator:hover label.sk-toggleable__label-arrow:before {color: black;}#sk-container-id-4 div.sk-toggleable__content {max-height: 0;max-width: 0;overflow: hidden;text-align: left;background-color: #f0f8ff;}#sk-container-id-4 div.sk-toggleable__content pre {margin: 0.2em;color: black;border-radius: 0.25em;background-color: #f0f8ff;}#sk-container-id-4 input.sk-toggleable__control:checked~div.sk-toggleable__content {max-height: 200px;max-width: 100%;overflow: auto;}#sk-container-id-4 input.sk-toggleable__control:checked~label.sk-toggleable__label-arrow:before {content: \"▾\";}#sk-container-id-4 div.sk-estimator input.sk-toggleable__control:checked~label.sk-toggleable__label {background-color: #d4ebff;}#sk-container-id-4 div.sk-label input.sk-toggleable__control:checked~label.sk-toggleable__label {background-color: #d4ebff;}#sk-container-id-4 input.sk-hidden--visually {border: 0;clip: rect(1px 1px 1px 1px);clip: rect(1px, 1px, 1px, 1px);height: 1px;margin: -1px;overflow: hidden;padding: 0;position: absolute;width: 1px;}#sk-container-id-4 div.sk-estimator {font-family: monospace;background-color: #f0f8ff;border: 1px dotted black;border-radius: 0.25em;box-sizing: border-box;margin-bottom: 0.5em;}#sk-container-id-4 div.sk-estimator:hover {background-color: #d4ebff;}#sk-container-id-4 div.sk-parallel-item::after {content: \"\";width: 100%;border-bottom: 1px solid gray;flex-grow: 1;}#sk-container-id-4 div.sk-label:hover label.sk-toggleable__label {background-color: #d4ebff;}#sk-container-id-4 div.sk-serial::before {content: \"\";position: absolute;border-left: 1px solid gray;box-sizing: border-box;top: 0;bottom: 0;left: 50%;z-index: 0;}#sk-container-id-4 div.sk-serial {display: flex;flex-direction: column;align-items: center;background-color: white;padding-right: 0.2em;padding-left: 0.2em;position: relative;}#sk-container-id-4 div.sk-item {position: relative;z-index: 1;}#sk-container-id-4 div.sk-parallel {display: flex;align-items: stretch;justify-content: center;background-color: white;position: relative;}#sk-container-id-4 div.sk-item::before, #sk-container-id-4 div.sk-parallel-item::before {content: \"\";position: absolute;border-left: 1px solid gray;box-sizing: border-box;top: 0;bottom: 0;left: 50%;z-index: -1;}#sk-container-id-4 div.sk-parallel-item {display: flex;flex-direction: column;z-index: 1;position: relative;background-color: white;}#sk-container-id-4 div.sk-parallel-item:first-child::after {align-self: flex-end;width: 50%;}#sk-container-id-4 div.sk-parallel-item:last-child::after {align-self: flex-start;width: 50%;}#sk-container-id-4 div.sk-parallel-item:only-child::after {width: 0;}#sk-container-id-4 div.sk-dashed-wrapped {border: 1px dashed gray;margin: 0 0.4em 0.5em 0.4em;box-sizing: border-box;padding-bottom: 0.4em;background-color: white;}#sk-container-id-4 div.sk-label label {font-family: monospace;font-weight: bold;display: inline-block;line-height: 1.2em;}#sk-container-id-4 div.sk-label-container {text-align: center;}#sk-container-id-4 div.sk-container {/* jupyter's `normalize.less` sets `[hidden] { display: none; }` but bootstrap.min.css set `[hidden] { display: none !important; }` so we also need the `!important` here to be able to override the default hidden behavior on the sphinx rendered scikit-learn.org. See: https://github.com/scikit-learn/scikit-learn/issues/21755 */display: inline-block !important;position: relative;}#sk-container-id-4 div.sk-text-repr-fallback {display: none;}</style><div id=\"sk-container-id-4\" class=\"sk-top-container\"><div class=\"sk-text-repr-fallback\"><pre>LGBMClassifier(class_weight={0: 3, 1: 1, 2: 8}, eta=0.05, feature_fraction=0.9,\n",
       "               learning_rate=0.05, metric=&#x27;multi_logloss&#x27;, n_estimators=1000,\n",
       "               num_class=3, objective=&#x27;multiclass&#x27;)</pre><b>In a Jupyter environment, please rerun this cell to show the HTML representation or trust the notebook. <br />On GitHub, the HTML representation is unable to render, please try loading this page with nbviewer.org.</b></div><div class=\"sk-container\" hidden><div class=\"sk-item\"><div class=\"sk-estimator sk-toggleable\"><input class=\"sk-toggleable__control sk-hidden--visually\" id=\"sk-estimator-id-4\" type=\"checkbox\" checked><label for=\"sk-estimator-id-4\" class=\"sk-toggleable__label sk-toggleable__label-arrow\">LGBMClassifier</label><div class=\"sk-toggleable__content\"><pre>LGBMClassifier(class_weight={0: 3, 1: 1, 2: 8}, eta=0.05, feature_fraction=0.9,\n",
       "               learning_rate=0.05, metric=&#x27;multi_logloss&#x27;, n_estimators=1000,\n",
       "               num_class=3, objective=&#x27;multiclass&#x27;)</pre></div></div></div></div></div>"
      ],
      "text/plain": [
       "LGBMClassifier(class_weight={0: 3, 1: 1, 2: 8}, eta=0.05, feature_fraction=0.9,\n",
       "               learning_rate=0.05, metric='multi_logloss', n_estimators=1000,\n",
       "               num_class=3, objective='multiclass')"
      ]
     },
     "execution_count": 26,
     "metadata": {},
     "output_type": "execute_result"
    }
   ],
   "source": [
    "lgbm_params = {\n",
    "    'eta':0.05,\n",
    "    'n_estimators':1000,\n",
    "    'objective': 'multiclass',\n",
    "    'num_class': 3,  # クラスの数を指定\n",
    "    'metric': 'multi_logloss',\n",
    "    'num_leaves': 31,\n",
    "    'learning_rate': 0.05,\n",
    "    'feature_fraction': 0.9,\n",
    "    'class_weight': {0: 3, 1: 1, 2: 8},\n",
    "    #'importance_type' : 'gain'\n",
    "    #'device_type' :'gpu'\n",
    "    #1以外の数値を上げるとreal１がより当該ラベルに落ちるようになる\n",
    "}\n",
    "\n",
    "gbm = lgb.LGBMClassifier(**lgbm_params)\n",
    "gbm.fit(train_feat_df ,row_data['health'] )"
   ]
  },
  {
   "cell_type": "code",
   "execution_count": 27,
   "metadata": {},
   "outputs": [
    {
     "name": "stdout",
     "output_type": "stream",
     "text": [
      "[LightGBM] [Warning] feature_fraction is set=0.9, colsample_bytree=1.0 will be ignored. Current value: feature_fraction=0.9\n",
      "[LightGBM] [Warning] learning_rate is set=0.05, eta=0.05 will be ignored. Current value: learning_rate=0.05\n"
     ]
    }
   ],
   "source": [
    "pred = gbm.predict(test_feat_df)"
   ]
  },
  {
   "cell_type": "code",
   "execution_count": 28,
   "metadata": {},
   "outputs": [
    {
     "name": "stdout",
     "output_type": "stream",
     "text": [
      "0.32830943554736364\n"
     ]
    }
   ],
   "source": [
    "f1 = f1_score(train_date['health'], pred, average='macro')\n",
    "print(f1)"
   ]
  },
  {
   "cell_type": "code",
   "execution_count": null,
   "metadata": {},
   "outputs": [],
   "source": []
  }
 ],
 "metadata": {
  "kernelspec": {
   "display_name": "Python 3",
   "language": "python",
   "name": "python3"
  },
  "language_info": {
   "codemirror_mode": {
    "name": "ipython",
    "version": 3
   },
   "file_extension": ".py",
   "mimetype": "text/x-python",
   "name": "python",
   "nbconvert_exporter": "python",
   "pygments_lexer": "ipython3",
   "version": "3.8.10"
  }
 },
 "nbformat": 4,
 "nbformat_minor": 2
}
